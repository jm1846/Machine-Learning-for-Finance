version https://git-lfs.github.com/spec/v1
oid sha256:167c5df8c4de5194e5dc4e1ff8cfc3fd30068667ff6fad2526500d9ee22b23b0
size 1227581
